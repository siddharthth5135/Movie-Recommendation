{
 "cells": [
  {
   "cell_type": "code",
   "execution_count": 3,
   "id": "f3f0d568",
   "metadata": {},
   "outputs": [],
   "source": [
    "import pandas as pd\n",
    "from sklearn.feature_extraction.text import CountVectorizer\n",
    "import numpy as np\n",
    "cv = CountVectorizer(max_features=5000,stop_words = 'english')\n"
   ]
  },
  {
   "cell_type": "code",
   "execution_count": 4,
   "id": "338604ef",
   "metadata": {},
   "outputs": [],
   "source": [
    "movies = pd.read_csv('movies_final.csv')"
   ]
  },
  {
   "cell_type": "code",
   "execution_count": 5,
   "id": "c8f563ef",
   "metadata": {},
   "outputs": [
    {
     "data": {
      "text/html": [
       "<div>\n",
       "<style scoped>\n",
       "    .dataframe tbody tr th:only-of-type {\n",
       "        vertical-align: middle;\n",
       "    }\n",
       "\n",
       "    .dataframe tbody tr th {\n",
       "        vertical-align: top;\n",
       "    }\n",
       "\n",
       "    .dataframe thead th {\n",
       "        text-align: right;\n",
       "    }\n",
       "</style>\n",
       "<table border=\"1\" class=\"dataframe\">\n",
       "  <thead>\n",
       "    <tr style=\"text-align: right;\">\n",
       "      <th></th>\n",
       "      <th>id</th>\n",
       "      <th>genres</th>\n",
       "      <th>keywords</th>\n",
       "      <th>title</th>\n",
       "      <th>overview</th>\n",
       "      <th>cast</th>\n",
       "      <th>crew</th>\n",
       "      <th>writer</th>\n",
       "      <th>tags</th>\n",
       "    </tr>\n",
       "  </thead>\n",
       "  <tbody>\n",
       "    <tr>\n",
       "      <th>0</th>\n",
       "      <td>19995</td>\n",
       "      <td>['Action', 'Adventure', 'Fantasy', 'ScienceFic...</td>\n",
       "      <td>['cultureclash', 'future', 'spacewar', 'spacec...</td>\n",
       "      <td>Avatar</td>\n",
       "      <td>['In', 'the', '22nd', 'century,', 'a', 'parapl...</td>\n",
       "      <td>['SamWorthington', 'ZoeSaldana', 'SigourneyWea...</td>\n",
       "      <td>['JamesCameron']</td>\n",
       "      <td>['James Cameron']</td>\n",
       "      <td>in the 22nd century, a parapleg marin is dispa...</td>\n",
       "    </tr>\n",
       "    <tr>\n",
       "      <th>1</th>\n",
       "      <td>285</td>\n",
       "      <td>['Adventure', 'Fantasy', 'Action']</td>\n",
       "      <td>['ocean', 'drugabuse', 'exoticisland', 'eastin...</td>\n",
       "      <td>Pirates of the Caribbean: At World's End</td>\n",
       "      <td>['Captain', 'Barbossa,', 'long', 'believed', '...</td>\n",
       "      <td>['JohnnyDepp', 'OrlandoBloom', 'KeiraKnightley...</td>\n",
       "      <td>['GoreVerbinski']</td>\n",
       "      <td>[]</td>\n",
       "      <td>captain barbossa, long believ to be dead, ha c...</td>\n",
       "    </tr>\n",
       "    <tr>\n",
       "      <th>2</th>\n",
       "      <td>206647</td>\n",
       "      <td>['Action', 'Adventure', 'Crime']</td>\n",
       "      <td>['spy', 'basedonnovel', 'secretagent', 'sequel...</td>\n",
       "      <td>Spectre</td>\n",
       "      <td>['A', 'cryptic', 'message', 'from', 'Bond’s', ...</td>\n",
       "      <td>['DanielCraig', 'ChristophWaltz', 'LéaSeydoux'...</td>\n",
       "      <td>['SamMendes']</td>\n",
       "      <td>[]</td>\n",
       "      <td>a cryptic messag from bond’ past send him on a...</td>\n",
       "    </tr>\n",
       "    <tr>\n",
       "      <th>3</th>\n",
       "      <td>49026</td>\n",
       "      <td>['Action', 'Crime', 'Drama', 'Thriller']</td>\n",
       "      <td>['dccomics', 'crimefighter', 'terrorist', 'sec...</td>\n",
       "      <td>The Dark Knight Rises</td>\n",
       "      <td>['Following', 'the', 'death', 'of', 'District'...</td>\n",
       "      <td>['ChristianBale', 'MichaelCaine', 'GaryOldman'...</td>\n",
       "      <td>['ChristopherNolan']</td>\n",
       "      <td>[]</td>\n",
       "      <td>follow the death of district attorney harvey d...</td>\n",
       "    </tr>\n",
       "    <tr>\n",
       "      <th>4</th>\n",
       "      <td>49529</td>\n",
       "      <td>['Action', 'Adventure', 'ScienceFiction']</td>\n",
       "      <td>['basedonnovel', 'mars', 'medallion', 'spacetr...</td>\n",
       "      <td>John Carter</td>\n",
       "      <td>['John', 'Carter', 'is', 'a', 'war-weary,', 'f...</td>\n",
       "      <td>['TaylorKitsch', 'LynnCollins', 'SamanthaMorto...</td>\n",
       "      <td>['AndrewStanton']</td>\n",
       "      <td>[]</td>\n",
       "      <td>john carter is a war-weary, former militari ca...</td>\n",
       "    </tr>\n",
       "  </tbody>\n",
       "</table>\n",
       "</div>"
      ],
      "text/plain": [
       "       id                                             genres  \\\n",
       "0   19995  ['Action', 'Adventure', 'Fantasy', 'ScienceFic...   \n",
       "1     285                 ['Adventure', 'Fantasy', 'Action']   \n",
       "2  206647                   ['Action', 'Adventure', 'Crime']   \n",
       "3   49026           ['Action', 'Crime', 'Drama', 'Thriller']   \n",
       "4   49529          ['Action', 'Adventure', 'ScienceFiction']   \n",
       "\n",
       "                                            keywords  \\\n",
       "0  ['cultureclash', 'future', 'spacewar', 'spacec...   \n",
       "1  ['ocean', 'drugabuse', 'exoticisland', 'eastin...   \n",
       "2  ['spy', 'basedonnovel', 'secretagent', 'sequel...   \n",
       "3  ['dccomics', 'crimefighter', 'terrorist', 'sec...   \n",
       "4  ['basedonnovel', 'mars', 'medallion', 'spacetr...   \n",
       "\n",
       "                                      title  \\\n",
       "0                                    Avatar   \n",
       "1  Pirates of the Caribbean: At World's End   \n",
       "2                                   Spectre   \n",
       "3                     The Dark Knight Rises   \n",
       "4                               John Carter   \n",
       "\n",
       "                                            overview  \\\n",
       "0  ['In', 'the', '22nd', 'century,', 'a', 'parapl...   \n",
       "1  ['Captain', 'Barbossa,', 'long', 'believed', '...   \n",
       "2  ['A', 'cryptic', 'message', 'from', 'Bond’s', ...   \n",
       "3  ['Following', 'the', 'death', 'of', 'District'...   \n",
       "4  ['John', 'Carter', 'is', 'a', 'war-weary,', 'f...   \n",
       "\n",
       "                                                cast                  crew  \\\n",
       "0  ['SamWorthington', 'ZoeSaldana', 'SigourneyWea...      ['JamesCameron']   \n",
       "1  ['JohnnyDepp', 'OrlandoBloom', 'KeiraKnightley...     ['GoreVerbinski']   \n",
       "2  ['DanielCraig', 'ChristophWaltz', 'LéaSeydoux'...         ['SamMendes']   \n",
       "3  ['ChristianBale', 'MichaelCaine', 'GaryOldman'...  ['ChristopherNolan']   \n",
       "4  ['TaylorKitsch', 'LynnCollins', 'SamanthaMorto...     ['AndrewStanton']   \n",
       "\n",
       "              writer                                               tags  \n",
       "0  ['James Cameron']  in the 22nd century, a parapleg marin is dispa...  \n",
       "1                 []  captain barbossa, long believ to be dead, ha c...  \n",
       "2                 []  a cryptic messag from bond’ past send him on a...  \n",
       "3                 []  follow the death of district attorney harvey d...  \n",
       "4                 []  john carter is a war-weary, former militari ca...  "
      ]
     },
     "execution_count": 5,
     "metadata": {},
     "output_type": "execute_result"
    }
   ],
   "source": [
    "movies.head()"
   ]
  },
  {
   "cell_type": "code",
   "execution_count": 6,
   "id": "7617997c",
   "metadata": {},
   "outputs": [
    {
     "name": "stdout",
     "output_type": "stream",
     "text": [
      "1.24.4\n"
     ]
    }
   ],
   "source": [
    "print(np.__version__)"
   ]
  },
  {
   "cell_type": "code",
   "execution_count": 7,
   "id": "f46e7e7b",
   "metadata": {},
   "outputs": [
    {
     "data": {
      "text/plain": [
       "'in the 22nd century, a parapleg marin is dispatch to the moon pandora on a uniqu mission, but becom torn between follow order and protect an alien civilization. action adventur fantasi sciencefict cultureclash futur spacewar spacecoloni societi spacetravel futurist romanc space alien tribe alienplanet cgi marin soldier battl loveaffair antiwar powerrel mindandsoul 3d samworthington zoesaldana sigourneyweav stephenlang michellerodriguez jamescameron'"
      ]
     },
     "execution_count": 7,
     "metadata": {},
     "output_type": "execute_result"
    }
   ],
   "source": [
    "movies['tags'][0]"
   ]
  },
  {
   "cell_type": "markdown",
   "id": "54ffc574",
   "metadata": {},
   "source": [
    "Create an Vector"
   ]
  },
  {
   "cell_type": "code",
   "execution_count": 8,
   "id": "d6ecdac8",
   "metadata": {},
   "outputs": [],
   "source": [
    "vector = cv.fit_transform(movies['tags']).toarray()"
   ]
  },
  {
   "cell_type": "code",
   "execution_count": 9,
   "id": "b6da397b",
   "metadata": {},
   "outputs": [],
   "source": [
    "from sklearn.metrics.pairwise import  cosine_similarity\n",
    "similarity =cosine_similarity(vector)"
   ]
  },
  {
   "cell_type": "code",
   "execution_count": 10,
   "id": "12f289fa",
   "metadata": {},
   "outputs": [
    {
     "data": {
      "text/plain": [
       "(4800, 4800)"
      ]
     },
     "execution_count": 10,
     "metadata": {},
     "output_type": "execute_result"
    }
   ],
   "source": [
    "similarity.shape"
   ]
  },
  {
   "cell_type": "code",
   "execution_count": 11,
   "id": "2baa223d",
   "metadata": {},
   "outputs": [
    {
     "data": {
      "text/plain": [
       "[(1213, 0.2814699843903006),\n",
       " (2403, 0.2564388222660863),\n",
       " (507, 0.2491364395612199),\n",
       " (3723, 0.24748737341529164),\n",
       " (582, 0.23890473351968816)]"
      ]
     },
     "execution_count": 11,
     "metadata": {},
     "output_type": "execute_result"
    }
   ],
   "source": [
    "sorted(list(enumerate(similarity[0])),reverse=True,key = lambda x : x[1])[1:6]"
   ]
  },
  {
   "cell_type": "code",
   "execution_count": 12,
   "id": "04ddcf90",
   "metadata": {},
   "outputs": [],
   "source": [
    "def recommendationMovies(movieTitle):\n",
    "    movieIndex = movies[movies['title'] == movieTitle].index[0]\n",
    "\n",
    "    #⁡⁣⁣⁢similarity contains cosine similarity of one movie to all other movies⁡\n",
    "    suggested_movies = sorted(list(enumerate(similarity[movieIndex])),reverse=True,key = lambda x : x[1])[1: 11]\n",
    "\n",
    "    for i in suggested_movies:\n",
    "        movie = movies.iloc[i[0]]\n",
    "        print(\"Movie Name:\",movie.title)\n",
    "        print(\"Director : \",movie.crew)\n",
    "        print(\"Actors : \",movie.cast)\n",
    "        print()\n",
    "        print()\n"
   ]
  },
  {
   "cell_type": "code",
   "execution_count": 13,
   "id": "55d1bd98",
   "metadata": {},
   "outputs": [
    {
     "name": "stdout",
     "output_type": "stream",
     "text": [
      "Movie Name: Aliens vs Predator: Requiem\n",
      "Director :  ['ColinStrause', 'GregStrause']\n",
      "Actors :  ['StevenPasquale', 'ReikoAylesworth', 'JohnOrtiz', 'ArielGade', 'SamTrammell']\n",
      "\n",
      "\n",
      "Movie Name: Aliens\n",
      "Director :  ['JamesCameron']\n",
      "Actors :  ['SigourneyWeaver', 'MichaelBiehn', 'JamesRemar', 'PaulReiser', 'LanceHenriksen']\n",
      "\n",
      "\n",
      "Movie Name: Independence Day\n",
      "Director :  ['RolandEmmerich']\n",
      "Actors :  ['WillSmith', 'BillPullman', 'JeffGoldblum', 'MaryMcDonnell', 'JuddHirsch']\n",
      "\n",
      "\n",
      "Movie Name: Falcon Rising\n",
      "Director :  ['ErnieBarbarash']\n",
      "Actors :  ['MichaelJaiWhite', 'NealMcDonough', 'LateefCrowder', 'LailaAli', 'HazukiKato']\n",
      "\n",
      "\n",
      "Movie Name: Battle: Los Angeles\n",
      "Director :  ['JonathanLiebesman']\n",
      "Actors :  ['AaronEckhart', 'RamónRodríguez', 'WillRothhaar', 'CoryHardrict', 'JimParrack']\n",
      "\n",
      "\n",
      "Movie Name: Titan A.E.\n",
      "Director :  ['GaryGoldman', 'DonBluth']\n",
      "Actors :  ['MattDamon', 'BillPullman', 'DrewBarrymore', 'JohnLeguizamo', 'NathanLane']\n",
      "\n",
      "\n",
      "Movie Name: Predators\n",
      "Director :  ['NimródAntal']\n",
      "Actors :  ['TopherGrace', 'AliceBraga', 'LaurenceFishburne', 'AdrienBrody', 'DannyTrejo']\n",
      "\n",
      "\n",
      "Movie Name: Meet Dave\n",
      "Director :  ['BrianRobbins']\n",
      "Actors :  ['EddieMurphy', 'ElizabethBanks', 'GabrielleUnion', 'ScottCaan', 'EdHelms']\n",
      "\n",
      "\n",
      "Movie Name: Small Soldiers\n",
      "Director :  ['JoeDante']\n",
      "Actors :  ['GregorySmith', 'KirstenDunst', 'DenisLeary', 'PhilHartman', 'DavidCross']\n",
      "\n",
      "\n",
      "Movie Name: U.F.O.\n",
      "Director :  ['DominicBurns']\n",
      "Actors :  ['BiancaBree', 'SeanBrosnan', 'SimonPhillips', 'Jean-ClaudeVanDamme', 'PeterBarrett']\n",
      "\n",
      "\n"
     ]
    }
   ],
   "source": [
    "recommendationMovies('Avatar')"
   ]
  },
  {
   "cell_type": "code",
   "execution_count": null,
   "id": "d99bcd58",
   "metadata": {},
   "outputs": [],
   "source": [
    "import pickle\n",
    "\n",
    "pickle.dump(movies,open('movies.pkl','wb'))\n",
    "pickle.dump(movies.to_dict(),open('movies_dict.pkl','wb'))\n",
    "pickle.dump(similarity,open('similarity.pkl','wb'))"
   ]
  }
 ],
 "metadata": {
  "kernelspec": {
   "display_name": "Python 3",
   "language": "python",
   "name": "python3"
  },
  "language_info": {
   "codemirror_mode": {
    "name": "ipython",
    "version": 3
   },
   "file_extension": ".py",
   "mimetype": "text/x-python",
   "name": "python",
   "nbconvert_exporter": "python",
   "pygments_lexer": "ipython3",
   "version": "3.11.1"
  }
 },
 "nbformat": 4,
 "nbformat_minor": 5
}
